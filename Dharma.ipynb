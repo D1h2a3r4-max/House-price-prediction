{
 "cells": [
  {
   "cell_type": "code",
   "execution_count": null,
   "id": "12b04ed8-d423-4850-8153-908f6558fab6",
   "metadata": {},
   "outputs": [],
   "source": [
    "# house_price_prediction.py\n",
    "\n",
    "\"\"\"\n",
    "House Price Prediction Project\n",
    "------------------------------\n",
    "This project predicts house prices using Linear Regression.\n",
    "\n",
    "Dataset: A simple synthetic dataset created for demo purposes.\n",
    "\"\"\"\n",
    "\n",
    "import pandas as pd\n",
    "from sklearn.model_selection import train_test_split\n",
    "from sklearn.linear_model import LinearRegression\n",
    "from sklearn.metrics import mean_squared_error, r2_score\n",
    "\n",
    "# Sample dataset (you can replace with a CSV later)\n",
    "data = {\n",
    "    \"area_sqft\": [1000, 1500, 2000, 2500, 3000, 3500, 4000],\n",
    "    \"bedrooms\": [2, 3, 3, 4, 4, 5, 5],\n",
    "    \"age_years\": [10, 5, 8, 12, 6, 15, 20],\n",
    "    \"price\": [200000, 300000, 400000, 450000, 500000, 600000, 620000],\n",
    "}\n",
    "\n",
    "df = pd.DataFrame(data)\n",
    "\n",
    "# Features & target\n",
    "X = df[[\"area_sqft\", \"bedrooms\", \"age_years\"]]\n",
    "y = df[\"price\"]\n",
    "\n",
    "# Train-test split\n",
    "X_train, X_test, y_train, y_test = train_test_split(\n",
    "    X, y, test_size=0.2, random_state=42\n",
    ")\n",
    "\n",
    "# Model\n",
    "model = LinearRegression()\n",
    "model.fit(X_train, y_train)\n",
    "\n",
    "# Predictions\n",
    "y_pred = model.predict(X_test)\n",
    "\n",
    "# Evaluation\n",
    "print(\"Mean Squared Error:\", mean_squared_error(y_test, y_pred))\n",
    "print(\"R2 Score:\", r2_score(y_test, y_pred))\n",
    "\n",
    "# Test on a new house\n",
    "new_house = [[2800, 4, 10]]  # area, bedrooms, age\n",
    "predicted_price = model.predict(new_house)\n",
    "print(f\"Predicted Price for new house: ${predicted_price[0]:,.2f}\")\n"
   ]
  }
 ],
 "metadata": {
  "kernelspec": {
   "display_name": "Python [conda env:base] *",
   "language": "python",
   "name": "conda-base-py"
  },
  "language_info": {
   "codemirror_mode": {
    "name": "ipython",
    "version": 3
   },
   "file_extension": ".py",
   "mimetype": "text/x-python",
   "name": "python",
   "nbconvert_exporter": "python",
   "pygments_lexer": "ipython3",
   "version": "3.13.5"
  }
 },
 "nbformat": 4,
 "nbformat_minor": 5
}
